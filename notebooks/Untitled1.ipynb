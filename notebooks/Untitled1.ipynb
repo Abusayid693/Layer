{
 "cells": [
  {
   "cell_type": "code",
   "execution_count": 1,
   "id": "0994b3b0-f3e1-4e39-9a09-fdb9406e1ca9",
   "metadata": {},
   "outputs": [
    {
     "name": "stdout",
     "output_type": "stream",
     "text": [
      "Collecting instaloader\n",
      "  Downloading instaloader-4.10.tar.gz (62 kB)\n",
      "\u001b[2K     \u001b[90m━━━━━━━━━━━━━━━━━━━━━━━━━━━━━━━━━━━━━━━━\u001b[0m \u001b[32m62.5/62.5 kB\u001b[0m \u001b[31m71.8 kB/s\u001b[0m eta \u001b[36m0:00:00\u001b[0m00:01\u001b[0m00:01\u001b[0m\n",
      "\u001b[?25h  Preparing metadata (setup.py) ... \u001b[?25ldone\n",
      "\u001b[?25hRequirement already satisfied: requests>=2.4 in /Users/rehanchoudhury/anaconda3/lib/python3.10/site-packages (from instaloader) (2.28.1)\n",
      "Requirement already satisfied: idna<4,>=2.5 in /Users/rehanchoudhury/anaconda3/lib/python3.10/site-packages (from requests>=2.4->instaloader) (3.4)\n",
      "Requirement already satisfied: urllib3<1.27,>=1.21.1 in /Users/rehanchoudhury/anaconda3/lib/python3.10/site-packages (from requests>=2.4->instaloader) (1.26.14)\n",
      "Requirement already satisfied: certifi>=2017.4.17 in /Users/rehanchoudhury/anaconda3/lib/python3.10/site-packages (from requests>=2.4->instaloader) (2023.5.7)\n",
      "Requirement already satisfied: charset-normalizer<3,>=2 in /Users/rehanchoudhury/anaconda3/lib/python3.10/site-packages (from requests>=2.4->instaloader) (2.0.4)\n",
      "Building wheels for collected packages: instaloader\n",
      "  Building wheel for instaloader (setup.py) ... \u001b[?25ldone\n",
      "\u001b[?25h  Created wheel for instaloader: filename=instaloader-4.10-py3-none-any.whl size=64281 sha256=04412ad27fa7e9bf73d27775f91a33524f363b01b3cd01c8a5d2753e2610fb33\n",
      "  Stored in directory: /Users/rehanchoudhury/Library/Caches/pip/wheels/f9/42/d3/7aa2bab03d8bf10ce5f61f077979845f80a45f11978d73830b\n",
      "Successfully built instaloader\n",
      "Installing collected packages: instaloader\n",
      "Successfully installed instaloader-4.10\n"
     ]
    }
   ],
   "source": [
    "!pip3 install instaloader"
   ]
  },
  {
   "cell_type": "code",
   "execution_count": 2,
   "id": "3d3805b9-d2a5-4b0f-80ed-edfd54fffd23",
   "metadata": {},
   "outputs": [
    {
     "ename": "SyntaxError",
     "evalue": "invalid syntax (2125923564.py, line 1)",
     "output_type": "error",
     "traceback": [
      "\u001b[0;36m  Cell \u001b[0;32mIn[2], line 1\u001b[0;36m\u001b[0m\n\u001b[0;31m    instaloader profile jokhyam_nio\u001b[0m\n\u001b[0m                ^\u001b[0m\n\u001b[0;31mSyntaxError\u001b[0m\u001b[0;31m:\u001b[0m invalid syntax\n"
     ]
    }
   ],
   "source": [
    "instaloader profile jokhyam_nio"
   ]
  },
  {
   "cell_type": "code",
   "execution_count": null,
   "id": "304cff1e-cadb-4ee0-9429-56c8801950b0",
   "metadata": {},
   "outputs": [],
   "source": []
  }
 ],
 "metadata": {
  "kernelspec": {
   "display_name": "Python 3 (ipykernel)",
   "language": "python",
   "name": "python3"
  },
  "language_info": {
   "codemirror_mode": {
    "name": "ipython",
    "version": 3
   },
   "file_extension": ".py",
   "mimetype": "text/x-python",
   "name": "python",
   "nbconvert_exporter": "python",
   "pygments_lexer": "ipython3",
   "version": "3.10.9"
  }
 },
 "nbformat": 4,
 "nbformat_minor": 5
}
