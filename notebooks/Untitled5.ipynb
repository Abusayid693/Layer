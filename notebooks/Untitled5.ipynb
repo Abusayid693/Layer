{
 "cells": [
  {
   "cell_type": "code",
   "execution_count": 72,
   "id": "eca3e376",
   "metadata": {},
   "outputs": [],
   "source": [
    "import torch\n",
    "import sklearn\n",
    "from sklearn.datasets import make_blobs\n",
    "from sklearn.model_selection import train_test_split\n",
    "import tqdm as notebook_tqdm\n",
    "import matplotlib.pyplot as plt\n",
    "import numpy as np\n",
    "\n",
    "NUM_CLASSES = 6\n",
    "NUM_FEATURES = 2\n",
    "RANDOM_SEED = 42\n",
    "\n",
    "X_blob, y_blob = make_blobs(n_samples=1000, \n",
    "                            n_features=NUM_FEATURES, \n",
    "                            centers=NUM_CLASSES, \n",
    "                            cluster_std=1.5, \n",
    "                            random_state=RANDOM_SEED)\n",
    "\n",
    "\n",
    "y_blob = y_blob.reshape(-1, 1)\n",
    "\n",
    "combined_array = np.hstack((X_blob, y_blob))\n",
    "\n",
    "header = 'X1, X2, X3 ,L'\n"
   ]
  },
  {
   "cell_type": "code",
   "execution_count": 73,
   "id": "345632b5",
   "metadata": {},
   "outputs": [],
   "source": [
    "np.savetxt('output-6.csv', combined_array, delimiter=',', header=header, comments='', fmt='%.8f')"
   ]
  },
  {
   "cell_type": "code",
   "execution_count": 48,
   "id": "d69bc9af",
   "metadata": {},
   "outputs": [
    {
     "data": {
      "text/plain": [
       "((1000, 2), (1000,), True, array([0., 1., 2., 3.]), 4)"
      ]
     },
     "execution_count": 48,
     "metadata": {},
     "output_type": "execute_result"
    }
   ],
   "source": [
    "data = np.genfromtxt('output.csv', delimiter=',', skip_header=True)\n",
    "\n",
    "rows, cols = data.shape\n",
    "\n",
    "all_numerical = np.all(np.isreal(data))\n",
    "\n",
    "X_data = data[:, :-1]\n",
    "Y_data = data[:, -1]\n",
    "    \n",
    "unique_elements = np.unique(Y_data)\n",
    "\n",
    "\n",
    "X_data.shape, Y_data.shape, all_numerical, unique_elements, unique_elements.size"
   ]
  },
  {
   "cell_type": "code",
   "execution_count": 54,
   "id": "2cfcf02d",
   "metadata": {},
   "outputs": [],
   "source": [
    "from torch.utils.data import DataLoader\n",
    "from torch.utils.data import TensorDataset\n",
    "\n",
    "X = torch.tensor(X_blob)\n",
    "Y = torch.tensor(y_blob)\n",
    "\n",
    "dataset = TensorDataset(X, Y)\n",
    "batch_size = 32\n",
    "\n",
    "data_loader = DataLoader(dataset, batch_size=batch_size, shuffle=True)\n"
   ]
  },
  {
   "cell_type": "code",
   "execution_count": 55,
   "id": "af184c19",
   "metadata": {},
   "outputs": [
    {
     "name": "stdout",
     "output_type": "stream",
     "text": [
      "Input (batch_X): tensor([[  0.7206,   7.8633],\n",
      "        [ -9.3169,   6.1295],\n",
      "        [ -2.3637,   9.9070],\n",
      "        [-10.7105,  -5.4786],\n",
      "        [ -4.4166,  -5.3654],\n",
      "        [-12.8932,   8.3403],\n",
      "        [ -2.6032,  10.4470],\n",
      "        [ -7.6377,   8.4550],\n",
      "        [ -7.9829,  -5.0260],\n",
      "        [ -1.1598,   9.4752],\n",
      "        [  4.5408,   0.1566],\n",
      "        [ -2.0428,  11.2273],\n",
      "        [ -7.7051,  -7.8875],\n",
      "        [  3.9706,  -0.8611],\n",
      "        [  4.5805,   2.9954],\n",
      "        [  6.0434,   3.8805],\n",
      "        [ -6.4785,  -6.3976],\n",
      "        [ -2.3636,  10.4673],\n",
      "        [  2.5286,   0.8064],\n",
      "        [ -4.8032,  -6.0342],\n",
      "        [ -6.4257,  -8.0115],\n",
      "        [ -2.4724,   9.7613],\n",
      "        [ -2.5276,   7.6684],\n",
      "        [  5.9443,   4.0066],\n",
      "        [ -9.2074,   6.0587],\n",
      "        [ -8.1069,  -6.8852],\n",
      "        [ -1.2889,   7.1680],\n",
      "        [  3.2158,   5.9217],\n",
      "        [ -5.2616,  -6.9379],\n",
      "        [ -6.3833,  -5.6298],\n",
      "        [ -4.4879,  -8.1506],\n",
      "        [ -8.3537,   6.9450]], dtype=torch.float64)\n",
      "Labels (batch_Y): tensor([[0],\n",
      "        [3],\n",
      "        [0],\n",
      "        [2],\n",
      "        [2],\n",
      "        [3],\n",
      "        [0],\n",
      "        [3],\n",
      "        [2],\n",
      "        [0],\n",
      "        [1],\n",
      "        [0],\n",
      "        [2],\n",
      "        [1],\n",
      "        [1],\n",
      "        [1],\n",
      "        [2],\n",
      "        [0],\n",
      "        [1],\n",
      "        [2],\n",
      "        [2],\n",
      "        [0],\n",
      "        [0],\n",
      "        [1],\n",
      "        [3],\n",
      "        [2],\n",
      "        [0],\n",
      "        [1],\n",
      "        [2],\n",
      "        [2],\n",
      "        [2],\n",
      "        [3]])\n"
     ]
    }
   ],
   "source": [
    "first_batch = next(iter(data_loader))\n",
    "\n",
    "# Unpack the batch\n",
    "batch_X, batch_Y = first_batch\n",
    "\n",
    "# Print the batch\n",
    "print(\"Input (batch_X):\", batch_X)\n",
    "print(\"Labels (batch_Y):\", batch_Y)"
   ]
  },
  {
   "cell_type": "code",
   "execution_count": null,
   "id": "a4965d94",
   "metadata": {},
   "outputs": [],
   "source": []
  }
 ],
 "metadata": {
  "kernelspec": {
   "display_name": "Python 3 (ipykernel)",
   "language": "python",
   "name": "python3"
  },
  "language_info": {
   "codemirror_mode": {
    "name": "ipython",
    "version": 3
   },
   "file_extension": ".py",
   "mimetype": "text/x-python",
   "name": "python",
   "nbconvert_exporter": "python",
   "pygments_lexer": "ipython3",
   "version": "3.10.9"
  }
 },
 "nbformat": 4,
 "nbformat_minor": 5
}
