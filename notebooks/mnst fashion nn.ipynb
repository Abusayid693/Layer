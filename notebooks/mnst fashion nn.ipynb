{
 "cells": [
  {
   "cell_type": "code",
   "execution_count": 67,
   "id": "f9a02a1f",
   "metadata": {},
   "outputs": [],
   "source": [
    "import torch\n",
    "import sklearn\n",
    "\n",
    "import torchvision\n",
    "from torchvision import datasets\n",
    "from torchvision import transforms\n",
    "from torchvision.transforms import ToTensor\n",
    "\n",
    "import matplotlib.pyplot as plt"
   ]
  },
  {
   "cell_type": "code",
   "execution_count": 68,
   "id": "ff140dec",
   "metadata": {},
   "outputs": [],
   "source": [
    "train_data = datasets.FashionMNIST(\n",
    "    root=\"FashionMNIST\",\n",
    "    train=True,\n",
    "    download=True,\n",
    "    transform=ToTensor(),\n",
    "    target_transform=None\n",
    ")\n",
    "\n",
    "test_data = datasets.FashionMNIST(\n",
    "    root=\"FashionMNIST\",\n",
    "    train=False,\n",
    "    download=True,\n",
    "    transform=ToTensor(),\n",
    "    target_transform=None\n",
    ")"
   ]
  },
  {
   "cell_type": "code",
   "execution_count": 69,
   "id": "e9911db2",
   "metadata": {},
   "outputs": [
    {
     "data": {
      "text/plain": [
       "(60000, 10000)"
      ]
     },
     "execution_count": 69,
     "metadata": {},
     "output_type": "execute_result"
    }
   ],
   "source": [
    " len(train_data), len(test_data)"
   ]
  },
  {
   "cell_type": "code",
   "execution_count": 70,
   "id": "3bab332c",
   "metadata": {},
   "outputs": [
    {
     "data": {
      "text/plain": [
       "(tensor([[[0.0000, 0.0000, 0.0000, 0.0000, 0.0000, 0.0000, 0.0000, 0.0000,\n",
       "           0.0000, 0.0000, 0.0000, 0.0000, 0.0000, 0.0000, 0.0000, 0.0000,\n",
       "           0.0000, 0.0000, 0.0000, 0.0000, 0.0000, 0.0000, 0.0000, 0.0000,\n",
       "           0.0000, 0.0000, 0.0000, 0.0000],\n",
       "          [0.0000, 0.0000, 0.0000, 0.0000, 0.0000, 0.0000, 0.0000, 0.0000,\n",
       "           0.0000, 0.0000, 0.0000, 0.0000, 0.0000, 0.0000, 0.0000, 0.0000,\n",
       "           0.0000, 0.0000, 0.0000, 0.0000, 0.0000, 0.0000, 0.0000, 0.0000,\n",
       "           0.0000, 0.0000, 0.0000, 0.0000],\n",
       "          [0.0000, 0.0000, 0.0000, 0.0000, 0.0000, 0.0000, 0.0000, 0.0000,\n",
       "           0.0000, 0.0000, 0.0000, 0.0000, 0.0000, 0.0000, 0.0000, 0.0000,\n",
       "           0.0000, 0.0000, 0.0000, 0.0000, 0.0000, 0.0000, 0.0000, 0.0000,\n",
       "           0.0000, 0.0000, 0.0000, 0.0000],\n",
       "          [0.0000, 0.0000, 0.0000, 0.0000, 0.0000, 0.0000, 0.0000, 0.0000,\n",
       "           0.0000, 0.0000, 0.0000, 0.0000, 0.0039, 0.0000, 0.0000, 0.0510,\n",
       "           0.2863, 0.0000, 0.0000, 0.0039, 0.0157, 0.0000, 0.0000, 0.0000,\n",
       "           0.0000, 0.0039, 0.0039, 0.0000],\n",
       "          [0.0000, 0.0000, 0.0000, 0.0000, 0.0000, 0.0000, 0.0000, 0.0000,\n",
       "           0.0000, 0.0000, 0.0000, 0.0000, 0.0118, 0.0000, 0.1412, 0.5333,\n",
       "           0.4980, 0.2431, 0.2118, 0.0000, 0.0000, 0.0000, 0.0039, 0.0118,\n",
       "           0.0157, 0.0000, 0.0000, 0.0118],\n",
       "          [0.0000, 0.0000, 0.0000, 0.0000, 0.0000, 0.0000, 0.0000, 0.0000,\n",
       "           0.0000, 0.0000, 0.0000, 0.0000, 0.0235, 0.0000, 0.4000, 0.8000,\n",
       "           0.6902, 0.5255, 0.5647, 0.4824, 0.0902, 0.0000, 0.0000, 0.0000,\n",
       "           0.0000, 0.0471, 0.0392, 0.0000],\n",
       "          [0.0000, 0.0000, 0.0000, 0.0000, 0.0000, 0.0000, 0.0000, 0.0000,\n",
       "           0.0000, 0.0000, 0.0000, 0.0000, 0.0000, 0.0000, 0.6078, 0.9255,\n",
       "           0.8118, 0.6980, 0.4196, 0.6118, 0.6314, 0.4275, 0.2510, 0.0902,\n",
       "           0.3020, 0.5098, 0.2824, 0.0588],\n",
       "          [0.0000, 0.0000, 0.0000, 0.0000, 0.0000, 0.0000, 0.0000, 0.0000,\n",
       "           0.0000, 0.0000, 0.0000, 0.0039, 0.0000, 0.2706, 0.8118, 0.8745,\n",
       "           0.8549, 0.8471, 0.8471, 0.6392, 0.4980, 0.4745, 0.4784, 0.5725,\n",
       "           0.5529, 0.3451, 0.6745, 0.2588],\n",
       "          [0.0000, 0.0000, 0.0000, 0.0000, 0.0000, 0.0000, 0.0000, 0.0000,\n",
       "           0.0000, 0.0039, 0.0039, 0.0039, 0.0000, 0.7843, 0.9098, 0.9098,\n",
       "           0.9137, 0.8980, 0.8745, 0.8745, 0.8431, 0.8353, 0.6431, 0.4980,\n",
       "           0.4824, 0.7686, 0.8980, 0.0000],\n",
       "          [0.0000, 0.0000, 0.0000, 0.0000, 0.0000, 0.0000, 0.0000, 0.0000,\n",
       "           0.0000, 0.0000, 0.0000, 0.0000, 0.0000, 0.7176, 0.8824, 0.8471,\n",
       "           0.8745, 0.8941, 0.9216, 0.8902, 0.8784, 0.8706, 0.8784, 0.8667,\n",
       "           0.8745, 0.9608, 0.6784, 0.0000],\n",
       "          [0.0000, 0.0000, 0.0000, 0.0000, 0.0000, 0.0000, 0.0000, 0.0000,\n",
       "           0.0000, 0.0000, 0.0000, 0.0000, 0.0000, 0.7569, 0.8941, 0.8549,\n",
       "           0.8353, 0.7765, 0.7059, 0.8314, 0.8235, 0.8275, 0.8353, 0.8745,\n",
       "           0.8627, 0.9529, 0.7922, 0.0000],\n",
       "          [0.0000, 0.0000, 0.0000, 0.0000, 0.0000, 0.0000, 0.0000, 0.0000,\n",
       "           0.0000, 0.0039, 0.0118, 0.0000, 0.0471, 0.8588, 0.8627, 0.8314,\n",
       "           0.8549, 0.7529, 0.6627, 0.8902, 0.8157, 0.8549, 0.8784, 0.8314,\n",
       "           0.8863, 0.7725, 0.8196, 0.2039],\n",
       "          [0.0000, 0.0000, 0.0000, 0.0000, 0.0000, 0.0000, 0.0000, 0.0000,\n",
       "           0.0000, 0.0000, 0.0235, 0.0000, 0.3882, 0.9569, 0.8706, 0.8627,\n",
       "           0.8549, 0.7961, 0.7765, 0.8667, 0.8431, 0.8353, 0.8706, 0.8627,\n",
       "           0.9608, 0.4667, 0.6549, 0.2196],\n",
       "          [0.0000, 0.0000, 0.0000, 0.0000, 0.0000, 0.0000, 0.0000, 0.0000,\n",
       "           0.0000, 0.0157, 0.0000, 0.0000, 0.2157, 0.9255, 0.8941, 0.9020,\n",
       "           0.8941, 0.9412, 0.9098, 0.8353, 0.8549, 0.8745, 0.9176, 0.8510,\n",
       "           0.8510, 0.8196, 0.3608, 0.0000],\n",
       "          [0.0000, 0.0000, 0.0039, 0.0157, 0.0235, 0.0275, 0.0078, 0.0000,\n",
       "           0.0000, 0.0000, 0.0000, 0.0000, 0.9294, 0.8863, 0.8510, 0.8745,\n",
       "           0.8706, 0.8588, 0.8706, 0.8667, 0.8471, 0.8745, 0.8980, 0.8431,\n",
       "           0.8549, 1.0000, 0.3020, 0.0000],\n",
       "          [0.0000, 0.0118, 0.0000, 0.0000, 0.0000, 0.0000, 0.0000, 0.0000,\n",
       "           0.0000, 0.2431, 0.5686, 0.8000, 0.8941, 0.8118, 0.8353, 0.8667,\n",
       "           0.8549, 0.8157, 0.8275, 0.8549, 0.8784, 0.8745, 0.8588, 0.8431,\n",
       "           0.8784, 0.9569, 0.6235, 0.0000],\n",
       "          [0.0000, 0.0000, 0.0000, 0.0000, 0.0706, 0.1725, 0.3216, 0.4196,\n",
       "           0.7412, 0.8941, 0.8627, 0.8706, 0.8510, 0.8863, 0.7843, 0.8039,\n",
       "           0.8275, 0.9020, 0.8784, 0.9176, 0.6902, 0.7373, 0.9804, 0.9725,\n",
       "           0.9137, 0.9333, 0.8431, 0.0000],\n",
       "          [0.0000, 0.2235, 0.7333, 0.8157, 0.8784, 0.8667, 0.8784, 0.8157,\n",
       "           0.8000, 0.8392, 0.8157, 0.8196, 0.7843, 0.6235, 0.9608, 0.7569,\n",
       "           0.8078, 0.8745, 1.0000, 1.0000, 0.8667, 0.9176, 0.8667, 0.8275,\n",
       "           0.8627, 0.9098, 0.9647, 0.0000],\n",
       "          [0.0118, 0.7922, 0.8941, 0.8784, 0.8667, 0.8275, 0.8275, 0.8392,\n",
       "           0.8039, 0.8039, 0.8039, 0.8627, 0.9412, 0.3137, 0.5882, 1.0000,\n",
       "           0.8980, 0.8667, 0.7373, 0.6039, 0.7490, 0.8235, 0.8000, 0.8196,\n",
       "           0.8706, 0.8941, 0.8824, 0.0000],\n",
       "          [0.3843, 0.9137, 0.7765, 0.8235, 0.8706, 0.8980, 0.8980, 0.9176,\n",
       "           0.9765, 0.8627, 0.7608, 0.8431, 0.8510, 0.9451, 0.2549, 0.2863,\n",
       "           0.4157, 0.4588, 0.6588, 0.8588, 0.8667, 0.8431, 0.8510, 0.8745,\n",
       "           0.8745, 0.8784, 0.8980, 0.1137],\n",
       "          [0.2941, 0.8000, 0.8314, 0.8000, 0.7569, 0.8039, 0.8275, 0.8824,\n",
       "           0.8471, 0.7255, 0.7725, 0.8078, 0.7765, 0.8353, 0.9412, 0.7647,\n",
       "           0.8902, 0.9608, 0.9373, 0.8745, 0.8549, 0.8314, 0.8196, 0.8706,\n",
       "           0.8627, 0.8667, 0.9020, 0.2627],\n",
       "          [0.1882, 0.7961, 0.7176, 0.7608, 0.8353, 0.7725, 0.7255, 0.7451,\n",
       "           0.7608, 0.7529, 0.7922, 0.8392, 0.8588, 0.8667, 0.8627, 0.9255,\n",
       "           0.8824, 0.8471, 0.7804, 0.8078, 0.7294, 0.7098, 0.6941, 0.6745,\n",
       "           0.7098, 0.8039, 0.8078, 0.4510],\n",
       "          [0.0000, 0.4784, 0.8588, 0.7569, 0.7020, 0.6706, 0.7176, 0.7686,\n",
       "           0.8000, 0.8235, 0.8353, 0.8118, 0.8275, 0.8235, 0.7843, 0.7686,\n",
       "           0.7608, 0.7490, 0.7647, 0.7490, 0.7765, 0.7529, 0.6902, 0.6118,\n",
       "           0.6549, 0.6941, 0.8235, 0.3608],\n",
       "          [0.0000, 0.0000, 0.2902, 0.7412, 0.8314, 0.7490, 0.6863, 0.6745,\n",
       "           0.6863, 0.7098, 0.7255, 0.7373, 0.7412, 0.7373, 0.7569, 0.7765,\n",
       "           0.8000, 0.8196, 0.8235, 0.8235, 0.8275, 0.7373, 0.7373, 0.7608,\n",
       "           0.7529, 0.8471, 0.6667, 0.0000],\n",
       "          [0.0078, 0.0000, 0.0000, 0.0000, 0.2588, 0.7843, 0.8706, 0.9294,\n",
       "           0.9373, 0.9490, 0.9647, 0.9529, 0.9569, 0.8667, 0.8627, 0.7569,\n",
       "           0.7490, 0.7020, 0.7137, 0.7137, 0.7098, 0.6902, 0.6510, 0.6588,\n",
       "           0.3882, 0.2275, 0.0000, 0.0000],\n",
       "          [0.0000, 0.0000, 0.0000, 0.0000, 0.0000, 0.0000, 0.0000, 0.1569,\n",
       "           0.2392, 0.1725, 0.2824, 0.1608, 0.1373, 0.0000, 0.0000, 0.0000,\n",
       "           0.0000, 0.0000, 0.0000, 0.0000, 0.0000, 0.0000, 0.0000, 0.0000,\n",
       "           0.0000, 0.0000, 0.0000, 0.0000],\n",
       "          [0.0000, 0.0000, 0.0000, 0.0000, 0.0000, 0.0000, 0.0000, 0.0000,\n",
       "           0.0000, 0.0000, 0.0000, 0.0000, 0.0000, 0.0000, 0.0000, 0.0000,\n",
       "           0.0000, 0.0000, 0.0000, 0.0000, 0.0000, 0.0000, 0.0000, 0.0000,\n",
       "           0.0000, 0.0000, 0.0000, 0.0000],\n",
       "          [0.0000, 0.0000, 0.0000, 0.0000, 0.0000, 0.0000, 0.0000, 0.0000,\n",
       "           0.0000, 0.0000, 0.0000, 0.0000, 0.0000, 0.0000, 0.0000, 0.0000,\n",
       "           0.0000, 0.0000, 0.0000, 0.0000, 0.0000, 0.0000, 0.0000, 0.0000,\n",
       "           0.0000, 0.0000, 0.0000, 0.0000]]]),\n",
       " 9)"
      ]
     },
     "execution_count": 70,
     "metadata": {},
     "output_type": "execute_result"
    }
   ],
   "source": [
    "image, label = train_data[0]\n",
    "label, image\n",
    "train_data[0]"
   ]
  },
  {
   "cell_type": "code",
   "execution_count": 23,
   "id": "d7688e5a",
   "metadata": {},
   "outputs": [
    {
     "data": {
      "text/plain": [
       "['T-shirt/top',\n",
       " 'Trouser',\n",
       " 'Pullover',\n",
       " 'Dress',\n",
       " 'Coat',\n",
       " 'Sandal',\n",
       " 'Shirt',\n",
       " 'Sneaker',\n",
       " 'Bag',\n",
       " 'Ankle boot']"
      ]
     },
     "execution_count": 23,
     "metadata": {},
     "output_type": "execute_result"
    }
   ],
   "source": [
    "class_names = train_data.classes\n",
    "class_names"
   ]
  },
  {
   "cell_type": "code",
   "execution_count": 24,
   "id": "04fbba37",
   "metadata": {},
   "outputs": [
    {
     "data": {
      "text/plain": [
       "{'T-shirt/top': 0,\n",
       " 'Trouser': 1,\n",
       " 'Pullover': 2,\n",
       " 'Dress': 3,\n",
       " 'Coat': 4,\n",
       " 'Sandal': 5,\n",
       " 'Shirt': 6,\n",
       " 'Sneaker': 7,\n",
       " 'Bag': 8,\n",
       " 'Ankle boot': 9}"
      ]
     },
     "execution_count": 24,
     "metadata": {},
     "output_type": "execute_result"
    }
   ],
   "source": [
    "class_to_idx = train_data.class_to_idx\n",
    "class_to_idx"
   ]
  },
  {
   "cell_type": "code",
   "execution_count": 71,
   "id": "9610203b",
   "metadata": {},
   "outputs": [
    {
     "data": {
      "text/plain": [
       "(torch.Size([1, 28, 28]), 9)"
      ]
     },
     "execution_count": 71,
     "metadata": {},
     "output_type": "execute_result"
    }
   ],
   "source": [
    "image.shape, label"
   ]
  },
  {
   "cell_type": "code",
   "execution_count": 30,
   "id": "0b4fd2c3",
   "metadata": {},
   "outputs": [
    {
     "data": {
      "text/plain": [
       "<matplotlib.image.AxesImage at 0x12d15d990>"
      ]
     },
     "execution_count": 30,
     "metadata": {},
     "output_type": "execute_result"
    },
    {
     "data": {
      "image/png": "[encoded data removed]",
      "text/plain": [
       "<Figure size 640x480 with 1 Axes>"
      ]
     },
     "metadata": {},
     "output_type": "display_data"
    }
   ],
   "source": [
    "import matplotlib.pyplot as plt\n",
    "\n",
    "image, label = train_data[0]\n",
    "\n",
    "plt.imshow(image.squeeze(), cmap=\"gray\")"
   ]
  },
  {
   "cell_type": "code",
   "execution_count": 72,
   "id": "7aa6a9aa",
   "metadata": {},
   "outputs": [
    {
     "data": {
      "text/plain": [
       "(Dataset FashionMNIST\n",
       "     Number of datapoints: 60000\n",
       "     Root location: FashionMNIST\n",
       "     Split: Train\n",
       "     StandardTransform\n",
       " Transform: ToTensor(),\n",
       " Dataset FashionMNIST\n",
       "     Number of datapoints: 10000\n",
       "     Root location: FashionMNIST\n",
       "     Split: Test\n",
       "     StandardTransform\n",
       " Transform: ToTensor())"
      ]
     },
     "execution_count": 72,
     "metadata": {},
     "output_type": "execute_result"
    }
   ],
   "source": [
    "train_data, test_data"
   ]
  },
  {
   "cell_type": "code",
   "execution_count": 41,
   "id": "09ab764a",
   "metadata": {},
   "outputs": [
    {
     "data": {
      "text/plain": [
       "<torch.utils.data.dataloader.DataLoader at 0x12eb4bcd0>"
      ]
     },
     "execution_count": 41,
     "metadata": {},
     "output_type": "execute_result"
    }
   ],
   "source": [
    "from torch.utils.data import DataLoader\n",
    "\n",
    "BTACH_SIZE = 32\n",
    "\n",
    "train_data_loader = DataLoader(dataset=train_data, batch_size=BTACH_SIZE, shuffle=True)\n",
    "\n",
    "test_data_loader = DataLoader(dataset=test_data, batch_size=BTACH_SIZE, shuffle=False)"
   ]
  },
  {
   "cell_type": "code",
   "execution_count": 100,
   "id": "41a3b403",
   "metadata": {},
   "outputs": [],
   "source": [
    "# Build a model\n",
    "import torch\n",
    "from torch import nn\n",
    "import numpy as np\n",
    "\n",
    "\n",
    "flatten_model = nn.Flatten()\n",
    "\n",
    "class MultiClassModelV0(nn.Module):\n",
    "    def __init__(self, input_features, output_features, hidden_units=8):\n",
    "        super().__init__()\n",
    "        \n",
    "        self.layer_stack = nn.Sequential(\n",
    "            nn.Flatten(),\n",
    "            nn.Linear(in_features=input_features, out_features=hidden_units),\n",
    "            nn.ReLU(),\n",
    "            nn.Linear(in_features=hidden_units, out_features=hidden_units),\n",
    "            nn.ReLU(),\n",
    "            nn.Linear(in_features=hidden_units, out_features=hidden_units),\n",
    "            nn.ReLU(),\n",
    "            nn.Linear(in_features=hidden_units, out_features=output_features)\n",
    "        )\n",
    "        \n",
    "    def forward(self, x):\n",
    "        return self.layer_stack(x)\n",
    "    \n",
    "    \n",
    "def normalizePredictions(y_pred):\n",
    "    vals = torch.softmax(y_pred, dim=1)\n",
    "    return torch.argmax(vals, dim=1)"
   ]
  },
  {
   "cell_type": "code",
   "execution_count": 101,
   "id": "186bf5a7",
   "metadata": {},
   "outputs": [
    {
     "data": {
      "text/plain": [
       "MultiClassModelV0(\n",
       "  (layer_stack): Sequential(\n",
       "    (0): Flatten(start_dim=1, end_dim=-1)\n",
       "    (1): Linear(in_features=784, out_features=10, bias=True)\n",
       "    (2): ReLU()\n",
       "    (3): Linear(in_features=10, out_features=10, bias=True)\n",
       "    (4): ReLU()\n",
       "    (5): Linear(in_features=10, out_features=10, bias=True)\n",
       "  )\n",
       ")"
      ]
     },
     "execution_count": 101,
     "metadata": {},
     "output_type": "execute_result"
    }
   ],
   "source": [
    "model_0 = MultiClassModelV0(\n",
    "          input_features=28*28,\n",
    "          hidden_units=10,\n",
    "          output_features=10,\n",
    "          )\n",
    "\n",
    "model_0"
   ]
  },
  {
   "cell_type": "code",
   "execution_count": 102,
   "id": "21c231c8",
   "metadata": {},
   "outputs": [
    {
     "data": {
      "text/plain": [
       "tensor([0])"
      ]
     },
     "execution_count": 102,
     "metadata": {},
     "output_type": "execute_result"
    }
   ],
   "source": [
    "model_0.eval()\n",
    "torch.manual_seed(45)\n",
    "\n",
    "dynmmy_x = torch.rand([1, 1, 28, 28]) # 1 -> one image data, 1 -> no of color channel, 28, 28 -> image matrix\n",
    "\n",
    "with torch.inference_mode():\n",
    "    y_pred = model_0(dynmmy_x)\n",
    "    y_pred_normalized = normalizePredictions(y_pred)\n",
    "\n",
    "y_pred_normalized"
   ]
  },
  {
   "cell_type": "code",
   "execution_count": 112,
   "id": "ecd8eca4",
   "metadata": {},
   "outputs": [],
   "source": [
    "# Loss and optimizer\n",
    "loss_fn = nn.CrossEntropyLoss() # is combines BCE with sigmoid\n",
    "\n",
    "optimizer = torch.optim.SGD(params = model_0.parameters(), lr=0.1)"
   ]
  },
  {
   "cell_type": "code",
   "execution_count": 116,
   "id": "f9dc4311",
   "metadata": {},
   "outputs": [
    {
     "name": "stdout",
     "output_type": "stream",
     "text": [
      "Epoch: 0\n",
      "----------\n",
      "Train loss for 0 : 0.29538631439208984\n",
      "Test loss for 0: 0.002296481980010867, Test acc: 85.8226837060703\n",
      "Epoch: 1\n",
      "----------\n",
      "Train loss for 1 : 0.29497677087783813\n",
      "Test loss for 1: 0.0020751915872097015, Test acc: 86.13218849840256\n",
      "Epoch: 2\n",
      "----------\n",
      "Train loss for 2 : 0.29486319422721863\n",
      "Test loss for 2: 0.0021363114938139915, Test acc: 86.10223642172524\n",
      "Epoch: 3\n",
      "----------\n",
      "Train loss for 3 : 0.2945376932621002\n",
      "Test loss for 3: 0.0020874403417110443, Test acc: 85.81269968051119\n",
      "Epoch: 4\n",
      "----------\n",
      "Train loss for 4 : 0.2947324514389038\n",
      "Test loss for 4: 0.0022859759628772736, Test acc: 86.00239616613419\n",
      "Epoch: 5\n",
      "----------\n",
      "Train loss for 5 : 0.2942523658275604\n",
      "Test loss for 5: 0.0021410579793155193, Test acc: 86.0223642172524\n",
      "Epoch: 6\n",
      "----------\n",
      "Train loss for 6 : 0.29408395290374756\n",
      "Test loss for 6: 0.002315505873411894, Test acc: 86.09225239616613\n",
      "Epoch: 7\n",
      "----------\n",
      "Train loss for 7 : 0.2940905690193176\n",
      "Test loss for 7: 0.002078335965052247, Test acc: 85.96246006389777\n",
      "Epoch: 8\n",
      "----------\n",
      "Train loss for 8 : 0.29389435052871704\n",
      "Test loss for 8: 0.0023782963398844004, Test acc: 85.88258785942492\n",
      "Epoch: 9\n",
      "----------\n",
      "Train loss for 9 : 0.29392871260643005\n",
      "Test loss for 9: 0.0021507886704057455, Test acc: 85.90255591054313\n",
      "Epoch: 10\n",
      "----------\n",
      "Train loss for 10 : 0.2935296595096588\n",
      "Test loss for 10: 0.002174310153350234, Test acc: 86.10223642172524\n",
      "Epoch: 11\n",
      "----------\n",
      "Train loss for 11 : 0.29322680830955505\n",
      "Test loss for 11: 0.0022090193815529346, Test acc: 85.97244408945687\n",
      "Epoch: 12\n",
      "----------\n",
      "Train loss for 12 : 0.2931033670902252\n",
      "Test loss for 12: 0.0020705799106508493, Test acc: 85.98242811501598\n",
      "Epoch: 13\n",
      "----------\n",
      "Train loss for 13 : 0.2931532859802246\n",
      "Test loss for 13: 0.002039944985881448, Test acc: 85.84265175718849\n",
      "Epoch: 14\n",
      "----------\n",
      "Train loss for 14 : 0.2930273115634918\n",
      "Test loss for 14: 0.0023072236217558384, Test acc: 85.75279552715655\n",
      "Epoch: 15\n",
      "----------\n",
      "Train loss for 15 : 0.2929520606994629\n",
      "Test loss for 15: 0.002167819533497095, Test acc: 86.0123801916933\n",
      "Epoch: 16\n",
      "----------\n",
      "Train loss for 16 : 0.29297393560409546\n",
      "Test loss for 16: 0.0020925223361700773, Test acc: 86.0523162939297\n",
      "Epoch: 17\n",
      "----------\n",
      "Train loss for 17 : 0.2922994792461395\n",
      "Test loss for 17: 0.0020587784238159657, Test acc: 86.08226837060703\n",
      "Epoch: 18\n",
      "----------\n",
      "Train loss for 18 : 0.29250842332839966\n",
      "Test loss for 18: 0.0021650365088135004, Test acc: 86.10223642172524\n",
      "Epoch: 19\n",
      "----------\n",
      "Train loss for 19 : 0.292280912399292\n",
      "Test loss for 19: 0.0019403358455747366, Test acc: 86.0123801916933\n",
      "Epoch: 20\n",
      "----------\n",
      "Train loss for 20 : 0.29204756021499634\n",
      "Test loss for 20: 0.002135312184691429, Test acc: 86.09225239616613\n",
      "Epoch: 21\n",
      "----------\n",
      "Train loss for 21 : 0.2918897271156311\n",
      "Test loss for 21: 0.0021503192838281393, Test acc: 86.12220447284345\n",
      "Epoch: 22\n",
      "----------\n",
      "Train loss for 22 : 0.29161882400512695\n",
      "Test loss for 22: 0.00209645158611238, Test acc: 86.09225239616613\n",
      "Epoch: 23\n",
      "----------\n",
      "Train loss for 23 : 0.2916542589664459\n",
      "Test loss for 23: 0.0021601207554340363, Test acc: 86.17212460063898\n",
      "Epoch: 24\n",
      "----------\n",
      "Train loss for 24 : 0.29147636890411377\n",
      "Test loss for 24: 0.002141335280612111, Test acc: 85.98242811501598\n",
      "Epoch: 25\n",
      "----------\n",
      "Train loss for 25 : 0.2913786470890045\n",
      "Test loss for 25: 0.002002751687541604, Test acc: 85.94249201277955\n",
      "Epoch: 26\n",
      "----------\n",
      "Train loss for 26 : 0.29128339886665344\n",
      "Test loss for 26: 0.0020707850344479084, Test acc: 86.07228434504792\n",
      "Epoch: 27\n",
      "----------\n",
      "Train loss for 27 : 0.2910021245479584\n",
      "Test loss for 27: 0.0021419248078018427, Test acc: 86.09225239616613\n",
      "Epoch: 28\n",
      "----------\n",
      "Train loss for 28 : 0.29078617691993713\n",
      "Test loss for 28: 0.002295473823323846, Test acc: 86.0423322683706\n",
      "Epoch: 29\n",
      "----------\n",
      "Train loss for 29 : 0.2906724810600281\n",
      "Test loss for 29: 0.002078116172924638, Test acc: 85.79273162939297\n",
      "Epoch: 30\n",
      "----------\n",
      "Train loss for 30 : 0.29074546694755554\n",
      "Test loss for 30: 0.002202036324888468, Test acc: 85.98242811501598\n",
      "Epoch: 31\n",
      "----------\n",
      "Train loss for 31 : 0.2905201315879822\n",
      "Test loss for 31: 0.0022559957578778267, Test acc: 85.78274760383387\n",
      "Epoch: 32\n",
      "----------\n",
      "Train loss for 32 : 0.29008376598358154\n",
      "Test loss for 32: 0.0022055248264223337, Test acc: 86.03234824281151\n",
      "Epoch: 33\n",
      "----------\n",
      "Train loss for 33 : 0.2900557219982147\n",
      "Test loss for 33: 0.0021650439593940973, Test acc: 85.72284345047923\n",
      "Epoch: 34\n",
      "----------\n",
      "Train loss for 34 : 0.2899475395679474\n",
      "Test loss for 34: 0.0022262027487158775, Test acc: 85.97244408945687\n",
      "Epoch: 35\n",
      "----------\n",
      "Train loss for 35 : 0.2896488606929779\n",
      "Test loss for 35: 0.0022666603326797485, Test acc: 86.0223642172524\n",
      "Epoch: 36\n",
      "----------\n",
      "Train loss for 36 : 0.2892571687698364\n",
      "Test loss for 36: 0.0021927787456661463, Test acc: 85.88258785942492\n",
      "Epoch: 37\n",
      "----------\n",
      "Train loss for 37 : 0.28950315713882446\n",
      "Test loss for 37: 0.002194574335590005, Test acc: 85.89257188498402\n",
      "Epoch: 38\n",
      "----------\n",
      "Train loss for 38 : 0.2892557382583618\n",
      "Test loss for 38: 0.002134673995897174, Test acc: 86.13218849840256\n",
      "Epoch: 39\n",
      "----------\n",
      "Train loss for 39 : 0.2894388437271118\n",
      "Test loss for 39: 0.0020428660791367292, Test acc: 85.95247603833866\n",
      "Epoch: 40\n",
      "----------\n",
      "Train loss for 40 : 0.288743793964386\n",
      "Test loss for 40: 0.002252361737191677, Test acc: 86.03234824281151\n",
      "Epoch: 41\n",
      "----------\n",
      "Train loss for 41 : 0.2887952923774719\n",
      "Test loss for 41: 0.0020784595981240273, Test acc: 86.07228434504792\n",
      "Epoch: 42\n",
      "----------\n",
      "Train loss for 42 : 0.28873834013938904\n",
      "Test loss for 42: 0.0023280370514839888, Test acc: 86.14217252396166\n",
      "Epoch: 43\n",
      "----------\n",
      "Train loss for 43 : 0.2888619005680084\n",
      "Test loss for 43: 0.002344153355807066, Test acc: 86.08226837060703\n",
      "Epoch: 44\n",
      "----------\n",
      "Train loss for 44 : 0.2885981500148773\n",
      "Test loss for 44: 0.0021056875120848417, Test acc: 86.10223642172524\n",
      "Epoch: 45\n",
      "----------\n",
      "Train loss for 45 : 0.28830212354660034\n",
      "Test loss for 45: 0.0022469062823802233, Test acc: 86.08226837060703\n",
      "Epoch: 46\n",
      "----------\n",
      "Train loss for 46 : 0.28836703300476074\n",
      "Test loss for 46: 0.0021208401303738356, Test acc: 85.81269968051119\n",
      "Epoch: 47\n",
      "----------\n",
      "Train loss for 47 : 0.28803113102912903\n",
      "Test loss for 47: 0.002205741126090288, Test acc: 85.95247603833866\n",
      "Epoch: 48\n",
      "----------\n",
      "Train loss for 48 : 0.2877955138683319\n",
      "Test loss for 48: 0.002064142609015107, Test acc: 86.07228434504792\n",
      "Epoch: 49\n",
      "----------\n",
      "Train loss for 49 : 0.2878454029560089\n",
      "Test loss for 49: 0.0020821928046643734, Test acc: 85.80271565495208\n"
     ]
    }
   ],
   "source": [
    "from helpers import calculate_accuracy\n",
    "\n",
    "torch.manual_seed(42)\n",
    "\n",
    "epochs = 50\n",
    "\n",
    "train_epochs = []\n",
    "train_loss_arr = []\n",
    "test_loss_arr = []\n",
    "\n",
    "for epoch in range(epochs):\n",
    "    \n",
    "    train_loss = 0;\n",
    "    \n",
    "    print(f\"Epoch: {epoch}\\n----------\")\n",
    "    \n",
    "    train_epochs.append(epoch)\n",
    "    \n",
    "    for batch, (X, Y) in enumerate(train_data_loader):\n",
    "        \n",
    "        model_0.train();\n",
    "        \n",
    "        y_logits_train = model_0(X)\n",
    "        \n",
    "        loss = loss_fn(y_logits_train, Y)\n",
    "        \n",
    "        train_loss+=loss\n",
    "        \n",
    "        optimizer.zero_grad()\n",
    "        \n",
    "        loss.backward()\n",
    "        \n",
    "        optimizer.step()\n",
    "        \n",
    "        model_0.eval()\n",
    "        \n",
    "        # if batch % 400 == 0:\n",
    "            # print(f\"batch : {batch}\")\n",
    "            \n",
    "    # Average train_loss        \n",
    "    train_loss /= len(train_data_loader)\n",
    "    \n",
    "    train_loss_arr.append(train_loss.item())\n",
    "    \n",
    "    print(f\"Train loss for {epoch} : {train_loss}\")\n",
    "    \n",
    "    ### Testing\n",
    "    \n",
    "    test_loss, test_acc = 0, 0\n",
    "    \n",
    "    with torch.inference_mode():\n",
    "        for X_test, Y_test in test_data_loader:\n",
    "            \n",
    "            y_logits_test = model_0(X_test)\n",
    "        \n",
    "            test_loss = loss_fn(y_logits_test, Y_test)\n",
    "            \n",
    "            test_loss+=test_loss\n",
    "            \n",
    "            y_pred_test = normalizePredictions(y_logits_test)\n",
    "            \n",
    "            test_acc+=calculate_accuracy(Y_test ,y_pred_test)\n",
    "            \n",
    "        test_loss/=len(test_data_loader)\n",
    "        test_acc/=len(test_data_loader)\n",
    "        \n",
    "        test_loss_arr.append(test_loss.item())\n",
    "        \n",
    "        print(f\"Test loss for {epoch}: {test_loss}, Test acc: {test_acc}\")\n",
    "    \n",
    "    "
   ]
  },
  {
   "cell_type": "code",
   "execution_count": 115,
   "id": "0de5656d",
   "metadata": {},
   "outputs": [
    {
     "data": {
      "image/png": "[encoded data removed]",
      "text/plain": [
       "<Figure size 1000x700 with 1 Axes>"
      ]
     },
     "metadata": {},
     "output_type": "display_data"
    }
   ],
   "source": [
    "from helpers import plot_train_graph, plot_decision_boundary\n",
    "\n",
    "plot_train_graph(x=train_epochs, y_train=train_loss_arr, y_test=test_loss_arr)"
   ]
  },
  {
   "cell_type": "code",
   "execution_count": null,
   "id": "56f30fcf",
   "metadata": {},
   "outputs": [],
   "source": []
  }
 ],
 "metadata": {
  "kernelspec": {
   "display_name": "Python 3 (ipykernel)",
   "language": "python",
   "name": "python3"
  },
  "language_info": {
   "codemirror_mode": {
    "name": "ipython",
    "version": 3
   },
   "file_extension": ".py",
   "mimetype": "text/x-python",
   "name": "python",
   "nbconvert_exporter": "python",
   "pygments_lexer": "ipython3",
   "version": "3.10.9"
  }
 },
 "nbformat": 4,
 "nbformat_minor": 5
}
